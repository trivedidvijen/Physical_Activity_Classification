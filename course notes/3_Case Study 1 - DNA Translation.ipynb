{
 "cells": [
  {
   "cell_type": "markdown",
   "id": "eac982d7",
   "metadata": {
    "toc": true
   },
   "source": [
    "<h1>Table of Contents<span class=\"tocSkip\"></span></h1>\n",
    "<div class=\"toc\"><ul class=\"toc-item\"><li><span><a href=\"#Case-Study-1---DNA-Translation\" data-toc-modified-id=\"Case-Study-1---DNA-Translation-1\"><span class=\"toc-item-num\">1&nbsp;&nbsp;</span>Case Study 1 - DNA Translation</a></span><ul class=\"toc-item\"><li><span><a href=\"#Introduction-to-DNA-Translation\" data-toc-modified-id=\"Introduction-to-DNA-Translation-1.1\"><span class=\"toc-item-num\">1.1&nbsp;&nbsp;</span>Introduction to DNA Translation</a></span></li><li><span><a href=\"#Downloading-DNA-Data\" data-toc-modified-id=\"Downloading-DNA-Data-1.2\"><span class=\"toc-item-num\">1.2&nbsp;&nbsp;</span>Downloading DNA Data</a></span></li><li><span><a href=\"#Importing-DNA-Data-Into-Python\" data-toc-modified-id=\"Importing-DNA-Data-Into-Python-1.3\"><span class=\"toc-item-num\">1.3&nbsp;&nbsp;</span>Importing DNA Data Into Python</a></span></li><li><span><a href=\"#Translating-the-DNA-Sequence\" data-toc-modified-id=\"Translating-the-DNA-Sequence-1.4\"><span class=\"toc-item-num\">1.4&nbsp;&nbsp;</span>Translating the DNA Sequence</a></span></li><li><span><a href=\"#Comparing-Your-Translation\" data-toc-modified-id=\"Comparing-Your-Translation-1.5\"><span class=\"toc-item-num\">1.5&nbsp;&nbsp;</span>Comparing Your Translation</a></span></li></ul></li></ul></div>"
   ]
  },
  {
   "cell_type": "markdown",
   "id": "861d19cd",
   "metadata": {},
   "source": [
    "## Case Study 1 - DNA Translation\n",
    "\n",
    "### Introduction to DNA Translation\n",
    "\n",
    "DNA is a discrete code physically present in almost every cell of an organism.\n",
    "\n",
    "We can think of DNA as a one dimensional string of characters with four characters to choose from.\n",
    "\n",
    "These characters are A, C, G, and T. \n",
    "\n",
    "They stand for the first letters with the four nucleotides used to construct DNA.\n",
    "\n",
    "The full names of these nucleotides are adenine, cytosine, guanine,and thymine.\n",
    "\n",
    "Each unique three character sequence of nucleotides, sometimes called a nucleotide triplet, corresponds to one amino acid.\n",
    "\n",
    "The sequence of amino acids is unique for each type of protein and all proteins are built from the same set of just 20 amino acids for all living things.\n",
    "\n",
    "The so called central dogma of molecular biology describes the flow of genetic information in a biological system.\n",
    "\n",
    "Instructions in the DNA are first transcribed into RNA and the RNA is then translated into proteins.\n",
    "\n",
    "We can think of DNA, when read as sequences of three letters, as a dictionary of life.\n",
    "\n",
    "In this case study, we will first download a DNA strand as a text file from a public web-based repository of DNA sequences.\n",
    "\n",
    "We will then write code to translate the DNA sequence to a sequence of amino acids where each amino acid is represented by a unique letter.\n",
    "\n",
    "We will also download the amino acid sequence to check our solution."
   ]
  },
  {
   "cell_type": "markdown",
   "id": "64a5a9c4",
   "metadata": {},
   "source": [
    "Think about it conceptually.\n",
    "\n",
    "The input to our program is going to be a DNA sequence that consists of a four letter alphabet.\n",
    "We then read this sequence three letters at a time, translate each triplet to a single letter that stands for a specific amino acid, and then proceed to the next set of three letters.\n",
    "\n",
    "We do this until we have reached the end of the input sequence.\n",
    "\n",
    "Part of the table we will use:\n",
    "\n",
    "1. ATA -> I\n",
    "1. ATG -> M \n",
    "1. CAA -> Q\n",
    "1. TCT -> S\n",
    "1. TGG -> W\n",
    "\n",
    "Hence translation of the following DNA sequence is\n",
    "\n",
    "ATACAATGGCAA -> IQWQ"
   ]
  },
  {
   "cell_type": "markdown",
   "id": "a917132d",
   "metadata": {},
   "source": [
    "### Downloading DNA Data\n",
    "\n",
    "The NCBI is the National Center for Biotechnology Information, and it is United States' main public repository of DNA and related information.\n",
    "\n",
    "Download two files:\n",
    "\n",
    "1. Strand of DNA\n",
    "1. Corresponding protein sequence\n",
    "\n",
    "Select Neucleotide in databases and Download for the following code: NM_207618.2\n",
    "\n",
    "Click FASTA for DNA sequence and CDS for Translation of Amino Acids"
   ]
  },
  {
   "cell_type": "markdown",
   "id": "2ed4c5ca",
   "metadata": {},
   "source": [
    "### Importing DNA Data Into Python"
   ]
  },
  {
   "cell_type": "code",
   "execution_count": 759,
   "id": "bca8dc21",
   "metadata": {},
   "outputs": [
    {
     "name": "stdout",
     "output_type": "stream",
     "text": [
      "C:\\Users\\dvije\\Google Drive\\Jupyter Notebooks\\Python Research Libraries\\case studies\\translation\n"
     ]
    }
   ],
   "source": [
    "cd \"C:/Users/dvije/Google Drive/Jupyter Notebooks/Python Research Libraries/case studies/translation\""
   ]
  },
  {
   "cell_type": "code",
   "execution_count": 760,
   "id": "fbb7fc0c",
   "metadata": {},
   "outputs": [
    {
     "name": "stdout",
     "output_type": "stream",
     "text": [
      "DNA seq: GGTCAGAAAAAGCCCTCTCCATGTCTACTCACGATACATCCCTGAAAACCACTGAGGAAGTGGCTTTTCA\n",
      "GATCATCTTGCTTTGCCAGTTTGGGGTTGGGACTTTTGCCAATGTATTTCTCTTTGTCTATAATTTCTCT\n",
      "CCAATCTCGACTGGTTCTAAACAGAGGCCCAGACAAGTGATTTTAAGACACATGGCTGTGGCCAATGCCT\n",
      "TAACTCTCTTCCTCACTATATTTCCAAACAACATGATGACTTTTGCTCCAATTATTCCTCAAACTGACCT\n",
      "CAAATGTAAATTAGAATTCTTCACTCGCCTCGTGGCAAGAAGCACAAACTTGTGTTCAACTTGTGTTCTG\n",
      "AGTATCCATCAGTTTGTCACACTTGTTCCTGTTAATTCAGGTAAAGGAATACTCAGAGCAAGTGTCACAA\n",
      "ACATGGCAAGTTATTCTTGTTACAGTTGTTGGTTCTTCAGTGTCTTAAATAACATCTACATTCCAATTAA\n",
      "GGTCACTGGTCCACAGTTAACAGACAATAACAATAACTCTAAAAGCAAGTTGTTCTGTTCCACTTCTGAT\n",
      "TTCAGTGTAGGCATTGTCTTCTTGAGGTTTGCCCATGATGCCACATTCATGAGCATCATGGTCTGGACCA\n",
      "GTGTCTCCATGGTACTTCTCCTCCATAGACATTGTCAGAGAATGCAGTACATATTCACTCTCAATCAGGA\n",
      "CCCCAGGGGCCAAGCAGAGACCACAGCAACCCATACTATCCTGATGCTGGTAGTCACATTTGTTGGCTTT\n",
      "TATCTTCTAAGTCTTATTTGTATCATCTTTTACACCTATTTTATATATTCTCATCATTCCCTGAGGCATT\n",
      "GCAATGACATTTTGGTTTCGGGTTTCCCTACAATTTCTCCTTTACTGTTGACCTTCAGAGACCCTAAGGG\n",
      "TCCTTGTTCTGTGTTCTTCAACTGTTGAAAGCCAGAGTCACTAAAAATGCCAAACACAGAAGACAGCTTT\n",
      "GCTAATACCATTAAATACTTTATTCCATAAATATGTTTTTAAAAGCTTGTATGAACAAGGTATGGTGCTC\n",
      "ACTGCTATACTTATAAAAGAGTAAGGTTATAATCACTTGTTGATATGAAAAGATTTCTGGTTGGAATCTG\n",
      "ATTGAAACAGTGAGTTATTCACCACCCTCCATTCTCT\n"
     ]
    }
   ],
   "source": [
    "inputfile = \"dna.txt\"\n",
    "\n",
    "with open(inputfile, \"r\") as f:\n",
    "    seq = f.read()\n",
    "    # seq # note seq will have \\n characters but when printed it wont be there\n",
    "    print(f\"DNA seq: {seq}\")\n",
    "\n",
    "    # use replace method\n",
    "    seq = seq.replace(\"\\n\", \"\")\n",
    "    # seq # note those extra \\n are note there\n",
    "\n",
    "    # remove extra hidden characters as well\n",
    "    seq = seq.replace(\"\\r\", \"\")\n",
    "    # seq"
   ]
  },
  {
   "cell_type": "markdown",
   "id": "5ad39e54",
   "metadata": {},
   "source": [
    "### Translating the DNA Sequence"
   ]
  },
  {
   "cell_type": "code",
   "execution_count": 761,
   "id": "7870fa9f",
   "metadata": {},
   "outputs": [],
   "source": [
    "def translate(seq):\n",
    "    \"\"\"\n",
    "    Translate a string containing a nucleotide sequence into a string containing the corresponding sequence of amino        acids . Nucleotides are translated in triplets using the table dictionary; each amino acid 4 is encoded with a          string of length 1.\n",
    "    docstring\n",
    "    \"\"\"\n",
    "    table = {\n",
    "        'ATA':'I', 'ATC':'I', 'ATT':'I', 'ATG':'M',\n",
    "        'ACA':'T', 'ACC':'T', 'ACG':'T', 'ACT':'T',\n",
    "        'AAC':'N', 'AAT':'N', 'AAA':'K', 'AAG':'K',\n",
    "        'AGC':'S', 'AGT':'S', 'AGA':'R', 'AGG':'R',\n",
    "        'CTA':'L', 'CTC':'L', 'CTG':'L', 'CTT':'L',\n",
    "        'CCA':'P', 'CCC':'P', 'CCG':'P', 'CCT':'P',\n",
    "        'CAC':'H', 'CAT':'H', 'CAA':'Q', 'CAG':'Q',\n",
    "        'CGA':'R', 'CGC':'R', 'CGG':'R', 'CGT':'R',\n",
    "        'GTA':'V', 'GTC':'V', 'GTG':'V', 'GTT':'V',\n",
    "        'GCA':'A', 'GCC':'A', 'GCG':'A', 'GCT':'A',\n",
    "        'GAC':'D', 'GAT':'D', 'GAA':'E', 'GAG':'E',\n",
    "        'GGA':'G', 'GGC':'G', 'GGG':'G', 'GGT':'G',\n",
    "        'TCA':'S', 'TCC':'S', 'TCG':'S', 'TCT':'S',\n",
    "        'TTC':'F', 'TTT':'F', 'TTA':'L', 'TTG':'L',\n",
    "        'TAC':'Y', 'TAT':'Y', 'TAA':'_', 'TAG':'_',\n",
    "        'TGC':'C', 'TGT':'C', 'TGA':'_', 'TGG':'W',\n",
    "    }\n",
    "    protein = \"\"\n",
    "    #check if sequence length is divisible by 3\n",
    "    if len(seq) % 3 == 0:\n",
    "        for i in range(0, len(seq), 3):\n",
    "            codon = seq[i : i+3]\n",
    "            protein += table[codon]\n",
    "\n",
    "    return protein"
   ]
  },
  {
   "cell_type": "code",
   "execution_count": 762,
   "id": "f238140e",
   "metadata": {},
   "outputs": [
    {
     "data": {
      "text/plain": [
       "'A'"
      ]
     },
     "execution_count": 762,
     "metadata": {},
     "output_type": "execute_result"
    }
   ],
   "source": [
    "translate(\"GCC\")"
   ]
  },
  {
   "cell_type": "markdown",
   "id": "884a5f84",
   "metadata": {},
   "source": [
    "### Comparing Your Translation\n",
    "\n",
    "If you look at the website where it says CDS, you will see two numbers next to it, 21 and 938.\n",
    "\n",
    "These are the locations of the gene where the coding sequence starts and ends.\n",
    "\n",
    "So instead of taking the entire DNA sequence, we would really like to be doing the translation starting at position 21 and ending at 938.\n",
    "\n",
    "We can use string slicing to obtain the part of the sequence that we want.\n",
    "\n",
    "However, we need to be careful with the indices.\n",
    "\n",
    "If you investigate the NCBI website, you will see that the sequence positions are numbered from 1 to 1157.\n",
    "\n",
    "In Python, indexing starts at 0, so genome positions 21 and 938 correspond to Python string positions 20 and 937.\n",
    "\n",
    "So the starting point of the string slice will be 20, but the stopping location of the string is 938.\n",
    "\n",
    "This is because when we specify the stopping location as 938, the last character to be included is at position 937, which is exactly what we want."
   ]
  },
  {
   "cell_type": "code",
   "execution_count": 763,
   "id": "5da43cfd",
   "metadata": {},
   "outputs": [
    {
     "name": "stdout",
     "output_type": "stream",
     "text": [
      "DNA translation: \n",
      "\n",
      "DNA translation: MSTHDTSLKTTEEVAFQIILLCQFGVGTFANVFLFVYNFSPISTGSKQRPRQVILRHMAVANALTLFLTIFPNNMMTFAPIIPQTDLKCKLEFFTRLVARSTNLCSTCVLSIHQFVTLVPVNSGKGILRASVTNMASYSCYSCWFFSVLNNIYIPIKVTGPQLTDNNNNSKSKLFCSTSDFSVGIVFLRFAHDATFMSIMVWTSVSMVLLLHRHCQRMQYIFTLNQDPRGQAETTATHTILMLVVTFVGFYLLSLICIIFYTYFIYSHHSLRHCNDILVSGFPTISPLLLTFRDPKGPCSVFFNC_\n",
      "\n",
      "Protein Sequence: MSTHDTSLKTTEEVAFQIILLCQFGVGTFANVFLFVYNFSPISTGSKQRPRQVILRHMAVANALTLFLTIFPNNMMTFAPIIPQTDLKCKLEFFTRLVARSTNLCSTCVLSIHQFVTLVPVNSGKGILRASVTNMASYSCYSCWFFSVLNNIYIPIKVTGPQLTDNNNNSKSKLFCSTSDFSVGIVFLRFAHDATFMSIMVWTSVSMVLLLHRHCQRMQYIFTLNQDPRGQAETTATHTILMLVVTFVGFYLLSLICIIFYTYFIYSHHSLRHCNDILVSGFPTISPLLLTFRDPKGPCSVFFNC\n",
      "\n"
     ]
    }
   ],
   "source": [
    "def read_seq(inputfile):\n",
    "    \"\"\"\n",
    "    Reads and returns input sequence with special characters removed. \n",
    "    \"\"\"\n",
    "    with open(inputfile, \"r\") as f:\n",
    "        seq = f.read()\n",
    "        # seq # note seq will have \\n characters but when printed it wont be there\n",
    "        # print(f\"DNA seq: {seq}\")\n",
    "\n",
    "        # use replace method\n",
    "        seq = seq.replace(\"\\n\", \"\")\n",
    "        # seq # note those extra \\n are note there\n",
    "\n",
    "        # remove extra hidden characters as well\n",
    "        seq = seq.replace(\"\\r\", \"\")\n",
    "        # seq\n",
    "\n",
    "    return seq\n",
    "\n",
    "prt = read_seq(\"protein.txt\")\n",
    "dna = read_seq(\"dna.txt\")\n",
    "\n",
    "ans = translate(dna)\n",
    "print(f\"DNA translation: {ans}\\n\")\n",
    "\n",
    "ans = translate(dna[20:938])\n",
    "print(f\"DNA translation: {ans}\\n\")\n",
    "\n",
    "print(f\"Protein Sequence: {prt}\\n\")"
   ]
  },
  {
   "cell_type": "markdown",
   "id": "de0791bb",
   "metadata": {},
   "source": [
    "If you compare these two sequences, you will see that they look almost identical.\n",
    "\n",
    "The only difference between these two sequences is the underscore character that appears at the end of our translated sequence.\n",
    "\n",
    "At the very end of a protein coding sequence, nature places what's called a stop codon.\n",
    "\n",
    "There are three stop codons, and their function is to tell someone reading the sequence that this is where you should stop reading.\n",
    "\n",
    "The stop codon is not included in the downloaded protein, because it's usually not of interest.\n",
    "\n",
    "But when we download the DNA sequence and translate it ourselves, the stop codon is included in the translation.\n",
    "\n",
    "Therefore, we should really skip the last codon from our translation, and we can modify the stopping point of the slice."
   ]
  },
  {
   "cell_type": "code",
   "execution_count": 764,
   "id": "28c7f519",
   "metadata": {},
   "outputs": [
    {
     "name": "stdout",
     "output_type": "stream",
     "text": [
      "DNA translation: MSTHDTSLKTTEEVAFQIILLCQFGVGTFANVFLFVYNFSPISTGSKQRPRQVILRHMAVANALTLFLTIFPNNMMTFAPIIPQTDLKCKLEFFTRLVARSTNLCSTCVLSIHQFVTLVPVNSGKGILRASVTNMASYSCYSCWFFSVLNNIYIPIKVTGPQLTDNNNNSKSKLFCSTSDFSVGIVFLRFAHDATFMSIMVWTSVSMVLLLHRHCQRMQYIFTLNQDPRGQAETTATHTILMLVVTFVGFYLLSLICIIFYTYFIYSHHSLRHCNDILVSGFPTISPLLLTFRDPKGPCSVFFNC\n",
      "\n",
      "Protein Sequence: MSTHDTSLKTTEEVAFQIILLCQFGVGTFANVFLFVYNFSPISTGSKQRPRQVILRHMAVANALTLFLTIFPNNMMTFAPIIPQTDLKCKLEFFTRLVARSTNLCSTCVLSIHQFVTLVPVNSGKGILRASVTNMASYSCYSCWFFSVLNNIYIPIKVTGPQLTDNNNNSKSKLFCSTSDFSVGIVFLRFAHDATFMSIMVWTSVSMVLLLHRHCQRMQYIFTLNQDPRGQAETTATHTILMLVVTFVGFYLLSLICIIFYTYFIYSHHSLRHCNDILVSGFPTISPLLLTFRDPKGPCSVFFNC\n",
      "\n",
      "Is Downloaded and Transalted protein same: True\n"
     ]
    }
   ],
   "source": [
    "ans = translate(dna[20:935])\n",
    "print(f\"DNA translation: {ans}\\n\")\n",
    "\n",
    "print(f\"Protein Sequence: {prt}\\n\")\n",
    "\n",
    "print(f\"Is Downloaded and Transalted protein same: {ans == prt}\")"
   ]
  },
  {
   "cell_type": "markdown",
   "id": "6d13b4c6",
   "metadata": {},
   "source": [
    "An alternative approach is the following:\n",
    "\n",
    "The function translate returns a string of amino acids.\n",
    "\n",
    "So instead of omitting the last three characters from the DNA sequence, I can just omit the very last character of the translated amino acid sequence."
   ]
  },
  {
   "cell_type": "code",
   "execution_count": 765,
   "id": "1ef8ac87",
   "metadata": {},
   "outputs": [
    {
     "name": "stdout",
     "output_type": "stream",
     "text": [
      "DNA translation: MSTHDTSLKTTEEVAFQIILLCQFGVGTFANVFLFVYNFSPISTGSKQRPRQVILRHMAVANALTLFLTIFPNNMMTFAPIIPQTDLKCKLEFFTRLVARSTNLCSTCVLSIHQFVTLVPVNSGKGILRASVTNMASYSCYSCWFFSVLNNIYIPIKVTGPQLTDNNNNSKSKLFCSTSDFSVGIVFLRFAHDATFMSIMVWTSVSMVLLLHRHCQRMQYIFTLNQDPRGQAETTATHTILMLVVTFVGFYLLSLICIIFYTYFIYSHHSLRHCNDILVSGFPTISPLLLTFRDPKGPCSVFFNC\n",
      "\n",
      "Protein Sequence: MSTHDTSLKTTEEVAFQIILLCQFGVGTFANVFLFVYNFSPISTGSKQRPRQVILRHMAVANALTLFLTIFPNNMMTFAPIIPQTDLKCKLEFFTRLVARSTNLCSTCVLSIHQFVTLVPVNSGKGILRASVTNMASYSCYSCWFFSVLNNIYIPIKVTGPQLTDNNNNSKSKLFCSTSDFSVGIVFLRFAHDATFMSIMVWTSVSMVLLLHRHCQRMQYIFTLNQDPRGQAETTATHTILMLVVTFVGFYLLSLICIIFYTYFIYSHHSLRHCNDILVSGFPTISPLLLTFRDPKGPCSVFFNC\n",
      "\n",
      "Is Downloaded and Transalted protein same: True\n"
     ]
    }
   ],
   "source": [
    "prt = read_seq(\"protein.txt\")\n",
    "dna = read_seq(\"dna.txt\")\n",
    "\n",
    "ans = translate(dna[20:938])[:-1]\n",
    "print(f\"DNA translation: {ans}\\n\")\n",
    "\n",
    "print(f\"Protein Sequence: {prt}\\n\")\n",
    "\n",
    "print(f\"Is Downloaded and Transalted protein same: {ans == prt}\")"
   ]
  },
  {
   "cell_type": "code",
   "execution_count": 766,
   "id": "5189aa3c",
   "metadata": {},
   "outputs": [
    {
     "name": "stdout",
     "output_type": "stream",
     "text": [
      "C:\\Users\\dvije\\Google Drive\\Jupyter Notebooks\\Python Research Libraries\n"
     ]
    }
   ],
   "source": [
    "cd \"../..\""
   ]
  },
  {
   "cell_type": "code",
   "execution_count": null,
   "id": "2f221e93",
   "metadata": {},
   "outputs": [],
   "source": []
  }
 ],
 "metadata": {
  "kernelspec": {
   "display_name": "Python [conda env:pyResearchLibEnv] *",
   "language": "python",
   "name": "conda-env-pyResearchLibEnv-py"
  },
  "language_info": {
   "codemirror_mode": {
    "name": "ipython",
    "version": 3
   },
   "file_extension": ".py",
   "mimetype": "text/x-python",
   "name": "python",
   "nbconvert_exporter": "python",
   "pygments_lexer": "ipython3",
   "version": "3.9.4"
  },
  "toc": {
   "base_numbering": 1,
   "nav_menu": {},
   "number_sections": true,
   "sideBar": true,
   "skip_h1_title": false,
   "title_cell": "Table of Contents",
   "title_sidebar": "Contents",
   "toc_cell": true,
   "toc_position": {},
   "toc_section_display": true,
   "toc_window_display": true
  }
 },
 "nbformat": 4,
 "nbformat_minor": 5
}
