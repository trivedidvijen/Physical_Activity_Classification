{
 "cells": [
  {
   "cell_type": "markdown",
   "id": "4dde7e4f",
   "metadata": {
    "toc": true
   },
   "source": [
    "<h1>Table of Contents<span class=\"tocSkip\"></span></h1>\n",
    "<div class=\"toc\"><ul class=\"toc-item\"><li><span><a href=\"#EDX--Using-Python-for-Research-(HarvardX-PH526x)\" data-toc-modified-id=\"EDX--Using-Python-for-Research-(HarvardX-PH526x)-1\"><span class=\"toc-item-num\">1&nbsp;&nbsp;</span>EDX- Using Python for Research (HarvardX PH526x)</a></span><ul class=\"toc-item\"><li><span><a href=\"#Comparisons\" data-toc-modified-id=\"Comparisons-1.1\"><span class=\"toc-item-num\">1.1&nbsp;&nbsp;</span>Comparisons</a></span></li><li><span><a href=\"#Tuples\" data-toc-modified-id=\"Tuples-1.2\"><span class=\"toc-item-num\">1.2&nbsp;&nbsp;</span>Tuples</a></span></li><li><span><a href=\"#Sets\" data-toc-modified-id=\"Sets-1.3\"><span class=\"toc-item-num\">1.3&nbsp;&nbsp;</span>Sets</a></span></li><li><span><a href=\"#Dictionary\" data-toc-modified-id=\"Dictionary-1.4\"><span class=\"toc-item-num\">1.4&nbsp;&nbsp;</span>Dictionary</a></span></li><li><span><a href=\"#Shallow-vs-Deep-copy\" data-toc-modified-id=\"Shallow-vs-Deep-copy-1.5\"><span class=\"toc-item-num\">1.5&nbsp;&nbsp;</span>Shallow vs Deep copy</a></span></li><li><span><a href=\"#Scope-Rules\" data-toc-modified-id=\"Scope-Rules-1.6\"><span class=\"toc-item-num\">1.6&nbsp;&nbsp;</span>Scope Rules</a></span></li></ul></li></ul></div>"
   ]
  },
  {
   "cell_type": "markdown",
   "id": "c1d94563",
   "metadata": {},
   "source": [
    "# EDX- Using Python for Research (HarvardX PH526x)"
   ]
  },
  {
   "cell_type": "markdown",
   "id": "42431d01",
   "metadata": {},
   "source": [
    "## Comparisons\n",
    "\n",
    "is compares identity whereas == compares value of objecrs.\n",
    "Hence"
   ]
  },
  {
   "cell_type": "code",
   "execution_count": 637,
   "id": "cd45a758",
   "metadata": {},
   "outputs": [
    {
     "data": {
      "text/plain": [
       "True"
      ]
     },
     "execution_count": 637,
     "metadata": {},
     "output_type": "execute_result"
    }
   ],
   "source": [
    "[1,2] == [1,2]"
   ]
  },
  {
   "cell_type": "code",
   "execution_count": 638,
   "id": "d489dea4",
   "metadata": {},
   "outputs": [
    {
     "data": {
      "text/plain": [
       "False"
      ]
     },
     "execution_count": 638,
     "metadata": {},
     "output_type": "execute_result"
    }
   ],
   "source": [
    "[1,2] is [1,2] "
   ]
  },
  {
   "cell_type": "markdown",
   "id": "a789c133",
   "metadata": {},
   "source": [
    "For some values (like small integers up to 256), Python reserves some memory, to increase the performance. Hence, although creating two different objects, Python creates just one but links both variables to this object:\n",
    "\n",
    "Refer [Medium - Object Identities in Python](https://medium.com/swlh/object-identities-in-python-3ac8cba25015)\n",
    "\n",
    "See examples below"
   ]
  },
  {
   "cell_type": "code",
   "execution_count": 639,
   "id": "e680ac20",
   "metadata": {},
   "outputs": [
    {
     "data": {
      "text/plain": [
       "True"
      ]
     },
     "execution_count": 639,
     "metadata": {},
     "output_type": "execute_result"
    }
   ],
   "source": [
    "a = 256 \n",
    "b = 256\n",
    "a is b"
   ]
  },
  {
   "cell_type": "code",
   "execution_count": 640,
   "id": "126f272d",
   "metadata": {},
   "outputs": [
    {
     "data": {
      "text/plain": [
       "False"
      ]
     },
     "execution_count": 640,
     "metadata": {},
     "output_type": "execute_result"
    }
   ],
   "source": [
    "a = 257\n",
    "b = 257\n",
    "a is b"
   ]
  },
  {
   "cell_type": "markdown",
   "id": "61139db8",
   "metadata": {},
   "source": [
    "## Tuples\n",
    "\n",
    "Consider following two cases"
   ]
  },
  {
   "cell_type": "code",
   "execution_count": 641,
   "id": "f35a7c2e",
   "metadata": {},
   "outputs": [
    {
     "data": {
      "text/plain": [
       "1"
      ]
     },
     "execution_count": 641,
     "metadata": {},
     "output_type": "execute_result"
    }
   ],
   "source": [
    "(1,2,3)[-0]"
   ]
  },
  {
   "cell_type": "code",
   "execution_count": 642,
   "id": "1aa71e7a",
   "metadata": {},
   "outputs": [
    {
     "data": {
      "text/plain": [
       "()"
      ]
     },
     "execution_count": 642,
     "metadata": {},
     "output_type": "execute_result"
    }
   ],
   "source": [
    "(1,2,3)[-0:0]"
   ]
  },
  {
   "cell_type": "markdown",
   "id": "af2db351",
   "metadata": {},
   "source": [
    "Create a Tuple with a single element"
   ]
  },
  {
   "cell_type": "code",
   "execution_count": 643,
   "id": "82ca8985",
   "metadata": {},
   "outputs": [
    {
     "data": {
      "text/plain": [
       "tuple"
      ]
     },
     "execution_count": 643,
     "metadata": {},
     "output_type": "execute_result"
    }
   ],
   "source": [
    "a = (2,)\n",
    "type(a)"
   ]
  },
  {
   "cell_type": "code",
   "execution_count": 644,
   "id": "d65231c5",
   "metadata": {},
   "outputs": [
    {
     "data": {
      "text/plain": [
       "int"
      ]
     },
     "execution_count": 644,
     "metadata": {},
     "output_type": "execute_result"
    }
   ],
   "source": [
    "a = (2)\n",
    "type(a)"
   ]
  },
  {
   "cell_type": "markdown",
   "id": "71f91004",
   "metadata": {},
   "source": [
    "Parantheses can be obmitted although highly recommended as best practice"
   ]
  },
  {
   "cell_type": "code",
   "execution_count": 645,
   "id": "3b32cf04",
   "metadata": {},
   "outputs": [],
   "source": [
    "a = 2,"
   ]
  },
  {
   "cell_type": "markdown",
   "id": "106bbf89",
   "metadata": {},
   "source": [
    "While printing Tuples, parenthesis are required. Consider example below"
   ]
  },
  {
   "cell_type": "code",
   "execution_count": 646,
   "id": "b06f76ea",
   "metadata": {},
   "outputs": [
    {
     "name": "stdout",
     "output_type": "stream",
     "text": [
      "(2,)\n"
     ]
    }
   ],
   "source": [
    "print((2,))\n",
    "# type is tuple here while printing"
   ]
  },
  {
   "cell_type": "code",
   "execution_count": 647,
   "id": "b980fc70",
   "metadata": {},
   "outputs": [
    {
     "name": "stdout",
     "output_type": "stream",
     "text": [
      "2\n"
     ]
    }
   ],
   "source": [
    "print(2,)\n",
    "# type is int here while printing"
   ]
  },
  {
   "cell_type": "markdown",
   "id": "3202d80d",
   "metadata": {},
   "source": [
    "Prefer range as is without converting to list in for loops\n",
    "Why might you prefer to use a range over a list? ==> Ranges take up less memory than lists because they do not hold all the numbers simultaneously."
   ]
  },
  {
   "cell_type": "markdown",
   "id": "d0bbc3c3",
   "metadata": {},
   "source": [
    "All of the following displays digits from 0 to 9 in single string\n"
   ]
  },
  {
   "cell_type": "code",
   "execution_count": 648,
   "id": "4a4b9582",
   "metadata": {},
   "outputs": [
    {
     "name": "stdout",
     "output_type": "stream",
     "text": [
      "1) 0123456789\n",
      "2) 0123456789\n",
      "3) 0123456789\n",
      "4) range(0, 10)\n"
     ]
    }
   ],
   "source": [
    "# All of the following displays digits from 0 to 9 in single string\n",
    "print(\"1)\", \"0\"+\"1\"+\"2\"+\"3\"+\"4\"+\"5\"+\"6\"+\"7\"+\"8\"+\"9\")\n",
    "\n",
    "print(\"2)\", \"\".join([str(i) for i in range(10)]))\n",
    "\n",
    "import string\n",
    "print(\"3)\", string.digits)\n",
    "\n",
    "# This does not print digits like all above\n",
    "print(\"4)\", str(range(10)))"
   ]
  },
  {
   "cell_type": "markdown",
   "id": "f0db4226",
   "metadata": {},
   "source": [
    "Assume you have assigned x the string value of \"125,000\" (i.e., x = \"125,000\"). Can you find a string method that tests if x only contains digits?"
   ]
  },
  {
   "cell_type": "code",
   "execution_count": 649,
   "id": "300fc688",
   "metadata": {},
   "outputs": [
    {
     "data": {
      "text/plain": [
       "False"
      ]
     },
     "execution_count": 649,
     "metadata": {},
     "output_type": "execute_result"
    }
   ],
   "source": [
    "x = \"125,000\"\n",
    "x.isdecimal()"
   ]
  },
  {
   "cell_type": "markdown",
   "id": "19191ecd",
   "metadata": {},
   "source": [
    "## Sets\n",
    "\n",
    "Sets are unordered collections of distinct hashable objects\n",
    "Simple speaking it means one can use sets for immutable objects like numbers and strings but not for mutable objects list and dictionaries\n",
    "\n",
    "Two types of Sets:\n",
    "1. Set -> is mutable\n",
    "2. Frozen Set -> not mutable once it is created\n",
    "\n",
    "Sets cannot be indexed. Objects inside Sets do not have locations\n",
    "\n",
    "Elements in sets cannot be duplicated"
   ]
  },
  {
   "cell_type": "code",
   "execution_count": 650,
   "id": "5f43cfec",
   "metadata": {},
   "outputs": [
    {
     "name": "stdout",
     "output_type": "stream",
     "text": [
      "set()\n"
     ]
    }
   ],
   "source": [
    "ids = set()\n",
    "print(ids)"
   ]
  },
  {
   "cell_type": "code",
   "execution_count": 651,
   "id": "37a4266a",
   "metadata": {},
   "outputs": [
    {
     "name": "stdout",
     "output_type": "stream",
     "text": [
      "{0, 1, 2, 3, 4, 5, 6, 7, 8, 9}\n"
     ]
    },
    {
     "data": {
      "text/plain": [
       "10"
      ]
     },
     "execution_count": 651,
     "metadata": {},
     "output_type": "execute_result"
    }
   ],
   "source": [
    "ids = set([0, 1, 2, 3, 4, 5, 6, 7, 8, 9])\n",
    "print(ids)\n",
    "len(ids)"
   ]
  },
  {
   "cell_type": "code",
   "execution_count": 652,
   "id": "98b5c1fd",
   "metadata": {},
   "outputs": [
    {
     "name": "stdout",
     "output_type": "stream",
     "text": [
      "{0, 1, 2, 3, 4, 5, 6, 7, 8, 9, 10}\n"
     ]
    }
   ],
   "source": [
    "ids.add(10)\n",
    "print(ids)"
   ]
  },
  {
   "cell_type": "code",
   "execution_count": 653,
   "id": "6e94ea9a",
   "metadata": {},
   "outputs": [
    {
     "name": "stdout",
     "output_type": "stream",
     "text": [
      "{0, 1, 2, 3, 4, 5, 6, 7, 8, 9}\n"
     ]
    }
   ],
   "source": [
    "ids = set(range(10))\n",
    "print(ids)"
   ]
  },
  {
   "cell_type": "code",
   "execution_count": 654,
   "id": "f4319b86",
   "metadata": {},
   "outputs": [
    {
     "name": "stdout",
     "output_type": "stream",
     "text": [
      "{1, 3, 5, 7}\n"
     ]
    }
   ],
   "source": [
    "males = set([1, 3, 5, 7])\n",
    "print(males)"
   ]
  },
  {
   "cell_type": "code",
   "execution_count": 655,
   "id": "32dfcab3",
   "metadata": {},
   "outputs": [
    {
     "name": "stdout",
     "output_type": "stream",
     "text": [
      "{0, 2, 4, 6, 8, 9}\n"
     ]
    },
    {
     "data": {
      "text/plain": [
       "set"
      ]
     },
     "execution_count": 655,
     "metadata": {},
     "output_type": "execute_result"
    }
   ],
   "source": [
    "females = ids - males\n",
    "print(females)\n",
    "type(females)"
   ]
  },
  {
   "cell_type": "code",
   "execution_count": 656,
   "id": "824b85de",
   "metadata": {},
   "outputs": [
    {
     "name": "stdout",
     "output_type": "stream",
     "text": [
      "males: {1, 3, 5, 7}\n",
      "females: {0, 2, 4, 6, 8, 9}\n",
      "Union:  {0, 1, 2, 3, 4, 5, 6, 7, 8, 9}\n",
      "Intersection: everyone and [1,2,3] {1, 2, 3}\n"
     ]
    }
   ],
   "source": [
    "print(\"males:\", males)\n",
    "print(\"females:\", females)\n",
    "everyone = males | females\n",
    "print(\"Union: \", everyone)\n",
    "print(\"Intersection: everyone and [1,2,3]\", everyone & set([1, 2, 3]))"
   ]
  },
  {
   "cell_type": "code",
   "execution_count": 657,
   "id": "45fca739",
   "metadata": {},
   "outputs": [
    {
     "name": "stdout",
     "output_type": "stream",
     "text": [
      "{'a', 'b', 'l', 'r', 'h', 'e', 't', 'd', 's', 'n', 'i', 'm'}\n"
     ]
    },
    {
     "data": {
      "text/plain": [
       "12"
      ]
     },
     "execution_count": 657,
     "metadata": {},
     "output_type": "execute_result"
    }
   ],
   "source": [
    "# Unique letters in a word\n",
    "word = \"antidisestablishmenttarianism\"\n",
    "letters = set(word)\n",
    "print(letters)\n",
    "len(letters)"
   ]
  },
  {
   "cell_type": "markdown",
   "id": "42118204",
   "metadata": {},
   "source": [
    "***"
   ]
  },
  {
   "cell_type": "markdown",
   "id": "ff0817ed",
   "metadata": {},
   "source": [
    "## Dictionary\n",
    "\n",
    "Dictionaries are mapping from key objects to value objects\n",
    "\n",
    "Keys must be immutable and values can be anything\n",
    "\n",
    "Dictionaries are mutable\n",
    "\n",
    "They are not sequences and hence order is not preserved\n",
    "\n",
    "View object is returned by dictionary methods.\n",
    "\n",
    "View objects do precisely what you might imagine that they do.\n",
    "\n",
    "They provide a dynamic view of the keys or values in the dictionary.\n",
    "\n",
    "A key point here is that as you update or modify your dictionary,\n",
    "the views will also change correspondingly."
   ]
  },
  {
   "cell_type": "code",
   "execution_count": 658,
   "id": "75b804f0",
   "metadata": {},
   "outputs": [
    {
     "name": "stdout",
     "output_type": "stream",
     "text": [
      "Keys: dict_keys(['a', 'b'])\n",
      "Values: dict_values([1, 2])\n",
      "Keys after adding element: dict_keys(['a', 'b', 'c'])\n",
      "Values after adding element: dict_values([1, 2, 3])\n"
     ]
    }
   ],
   "source": [
    "names = {\"a\":1,\"b\":2}\n",
    "\n",
    "k = names.keys()\n",
    "print(\"Keys:\", k)\n",
    "\n",
    "v = names.values()\n",
    "print(\"Values:\", v)\n",
    "\n",
    "names[\"c\"] = 3\n",
    "\n",
    "print(\"Keys after adding element:\", k)\n",
    "print(\"Values after adding element:\", v)"
   ]
  },
  {
   "cell_type": "markdown",
   "id": "ab499149",
   "metadata": {},
   "source": [
    "View objects k and v wil now contain entry for c and 3 as well. We need not reassign it"
   ]
  },
  {
   "cell_type": "markdown",
   "id": "d15d467a",
   "metadata": {},
   "source": [
    "* * *"
   ]
  },
  {
   "cell_type": "markdown",
   "id": "de57578a",
   "metadata": {},
   "source": [
    "In python variables always reference objects and not other variables\n",
    "\n",
    "x = 3 creates an object 3 and a variable x and references variable x to object 3"
   ]
  },
  {
   "cell_type": "code",
   "execution_count": 659,
   "id": "47e354a2",
   "metadata": {},
   "outputs": [
    {
     "name": "stdout",
     "output_type": "stream",
     "text": [
      "x: 3\n",
      "y: 2\n"
     ]
    }
   ],
   "source": [
    "x = 3\n",
    "y = x\n",
    "y = y - 1\n",
    "\n",
    "print(\"x:\", x)\n",
    "print(\"y:\", y)"
   ]
  },
  {
   "cell_type": "markdown",
   "id": "9cff009a",
   "metadata": {},
   "source": [
    "At the end of this x is 3 and y is 2"
   ]
  },
  {
   "cell_type": "markdown",
   "id": "9f90b4c1",
   "metadata": {},
   "source": [
    "* * *"
   ]
  },
  {
   "cell_type": "markdown",
   "id": "ed3db50e",
   "metadata": {},
   "source": [
    "## Shallow vs Deep copy\n",
    "\n",
    "A shallow copy constructs a new compound object\n",
    "and then insert its references into it to the original object.\n",
    "\n",
    "In contrast, a deep copy constructs a new compound object and then\n",
    "recursively inserts copies into it of the original objects.\n",
    "\n",
    "* * *"
   ]
  },
  {
   "cell_type": "markdown",
   "id": "1ebaa48d",
   "metadata": {},
   "source": [
    "## Scope Rules\n",
    "\n",
    "Follow the acronym LEGB as follows\n",
    "\n",
    "L - Local - current funtion you are in\n",
    "\n",
    "E - Enclosing Function - function that called the current function, if any\n",
    "\n",
    "G - Global - module in which function was defined\n",
    "\n",
    "B - Built-in - Python's built in namespace\n",
    "\n",
    "***"
   ]
  },
  {
   "cell_type": "code",
   "execution_count": null,
   "id": "06952fca",
   "metadata": {},
   "outputs": [],
   "source": []
  }
 ],
 "metadata": {
  "kernelspec": {
   "display_name": "Python [conda env:pyResearchLibEnv] *",
   "language": "python",
   "name": "conda-env-pyResearchLibEnv-py"
  },
  "language_info": {
   "codemirror_mode": {
    "name": "ipython",
    "version": 3
   },
   "file_extension": ".py",
   "mimetype": "text/x-python",
   "name": "python",
   "nbconvert_exporter": "python",
   "pygments_lexer": "ipython3",
   "version": "3.9.4"
  },
  "toc": {
   "base_numbering": 1,
   "nav_menu": {},
   "number_sections": true,
   "sideBar": true,
   "skip_h1_title": false,
   "title_cell": "Table of Contents",
   "title_sidebar": "Contents",
   "toc_cell": true,
   "toc_position": {},
   "toc_section_display": true,
   "toc_window_display": true
  }
 },
 "nbformat": 4,
 "nbformat_minor": 5
}
